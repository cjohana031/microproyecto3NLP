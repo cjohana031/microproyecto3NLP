{
 "cells": [
  {
   "cell_type": "code",
   "execution_count": 1,
   "id": "a7f6ea5d",
   "metadata": {},
   "outputs": [
    {
     "name": "stdout",
     "output_type": "stream",
     "text": [
      "Not running in Colab, nothing else is needed.\n"
     ]
    }
   ],
   "source": [
    "def is_colab():\n",
    "    \"\"\"Check if the code is running in Google Colab.\"\"\"\n",
    "    try:\n",
    "        import google.colab\n",
    "        return True\n",
    "    except ImportError:\n",
    "        return False\n",
    "\n",
    "# Use the function to conditionally run magic commands\n",
    "if is_colab():\n",
    "    # Run Colab-specific magic commands\n",
    "    print(\"Running in Colab, executing magic commands.\")\n",
    "    !rm -rf colabtest\n",
    "    !git clone https://github.com/juan-carvajal/colabtest.git\n",
    "    !cp -R colabtest/* .\n",
    "    # Add any other Colab-specific setup\n",
    "else:\n",
    "    # Alternative setup for non-Colab environments\n",
    "    print(\"Not running in Colab, nothing else is needed.\")"
   ]
  },
  {
   "cell_type": "code",
   "execution_count": 2,
   "id": "6bf1e952",
   "metadata": {},
   "outputs": [
    {
     "name": "stdout",
     "output_type": "stream",
     "text": [
      "holii\n"
     ]
    }
   ],
   "source": [
    "with open('data/test.txt', 'r') as f:\n",
    "  print(f.read())"
   ]
  }
 ],
 "metadata": {
  "kernelspec": {
   "display_name": "Python 3",
   "language": "python",
   "name": "python3"
  },
  "language_info": {
   "codemirror_mode": {
    "name": "ipython",
    "version": 3
   },
   "file_extension": ".py",
   "mimetype": "text/x-python",
   "name": "python",
   "nbconvert_exporter": "python",
   "pygments_lexer": "ipython3",
   "version": "3.10.5"
  }
 },
 "nbformat": 4,
 "nbformat_minor": 5
}
