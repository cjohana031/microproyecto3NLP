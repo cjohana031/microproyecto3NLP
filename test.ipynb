{
  "cells": [
    {
      "cell_type": "code",
      "execution_count": 3,
      "id": "a7f6ea5d",
      "metadata": {
        "id": "a7f6ea5d",
        "outputId": "ddbcc2d2-245f-4bc4-c398-c895cf4bda7f",
        "colab": {
          "base_uri": "https://localhost:8080/"
        }
      },
      "outputs": [
        {
          "output_type": "stream",
          "name": "stdout",
          "text": [
            "Running in Colab, executing magic commands.\n",
            "Cloning into 'microproyecto3NLP'...\n",
            "remote: Enumerating objects: 6, done.\u001b[K\n",
            "remote: Counting objects: 100% (6/6), done.\u001b[K\n",
            "remote: Compressing objects: 100% (4/4), done.\u001b[K\n",
            "remote: Total 6 (delta 0), reused 6 (delta 0), pack-reused 0 (from 0)\u001b[K\n",
            "Receiving objects: 100% (6/6), done.\n"
          ]
        }
      ],
      "source": [
        "def is_colab():\n",
        "    \"\"\"Check if the code is running in Google Colab.\"\"\"\n",
        "    try:\n",
        "        import google.colab\n",
        "        return True\n",
        "    except ImportError:\n",
        "        return False\n",
        "\n",
        "# Use the function to conditionally run magic commands\n",
        "if is_colab():\n",
        "    # Run Colab-specific magic commands\n",
        "    print(\"Running in Colab, executing magic commands.\")\n",
        "    !rm -rf microproyecto3NLP/\n",
        "    !git clone https://github.com/cjohana031/microproyecto3NLP\n",
        "    !cp -R microproyecto3NLP/* .\n",
        "    # Add any other Colab-specific setup\n",
        "else:\n",
        "    # Alternative setup for non-Colab environments\n",
        "    print(\"Not running in Colab, nothing else is needed.\")"
      ]
    },
    {
      "cell_type": "code",
      "execution_count": 4,
      "id": "6bf1e952",
      "metadata": {
        "id": "6bf1e952",
        "outputId": "9f206326-6eee-4aa4-800a-3ce0444b5d85",
        "colab": {
          "base_uri": "https://localhost:8080/"
        }
      },
      "outputs": [
        {
          "output_type": "stream",
          "name": "stdout",
          "text": [
            "holii\n"
          ]
        }
      ],
      "source": [
        "with open('data/test.txt', 'r') as f:\n",
        "  print(f.read())"
      ]
    }
  ],
  "metadata": {
    "kernelspec": {
      "display_name": "Python 3",
      "name": "python3"
    },
    "language_info": {
      "codemirror_mode": {
        "name": "ipython",
        "version": 3
      },
      "file_extension": ".py",
      "mimetype": "text/x-python",
      "name": "python",
      "nbconvert_exporter": "python",
      "pygments_lexer": "ipython3",
      "version": "3.10.5"
    },
    "colab": {
      "provenance": [],
      "gpuType": "T4"
    },
    "accelerator": "GPU"
  },
  "nbformat": 4,
  "nbformat_minor": 5
}