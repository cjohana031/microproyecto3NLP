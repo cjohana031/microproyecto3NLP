{
 "cells": [
  {
   "cell_type": "code",
   "execution_count": 1,
   "id": "87c2ed8a",
   "metadata": {},
   "outputs": [
    {
     "name": "stdout",
     "output_type": "stream",
     "text": [
      "Not running in Colab, nothing else is needed.\n"
     ]
    }
   ],
   "source": [
    "def is_colab():\n",
    "    \"\"\"Check if the code is running in Google Colab.\"\"\"\n",
    "    try:\n",
    "        import google.colab\n",
    "        return True\n",
    "    except ImportError:\n",
    "        return False\n",
    "\n",
    "# Use the function to conditionally run magic commands\n",
    "if is_colab():\n",
    "    # Run Colab-specific magic commands\n",
    "    print(\"Running in Colab, executing magic commands.\")\n",
    "    !rm -rf microproyecto3NLP/\n",
    "    !git clone https://github.com/cjohana031/microproyecto3NLP\n",
    "    !cp -R microproyecto3NLP/* .\n",
    "    # Add any other Colab-specific setup\n",
    "else:\n",
    "    # Alternative setup for non-Colab environments\n",
    "    print(\"Not running in Colab, nothing else is needed.\")"
   ]
  },
  {
   "cell_type": "code",
   "execution_count": 2,
   "id": "8856986e",
   "metadata": {},
   "outputs": [
    {
     "name": "stdout",
     "output_type": "stream",
     "text": [
      "Requirement already satisfied: datasets in c:\\users\\cjoha\\appdata\\local\\programs\\python\\python310\\lib\\site-packages (3.5.0)\n",
      "Requirement already satisfied: sentencepiece in c:\\users\\cjoha\\appdata\\local\\programs\\python\\python310\\lib\\site-packages (0.2.0)\n",
      "Requirement already satisfied: filelock in c:\\users\\cjoha\\appdata\\local\\programs\\python\\python310\\lib\\site-packages (from datasets) (3.8.0)\n",
      "Requirement already satisfied: numpy>=1.17 in c:\\users\\cjoha\\appdata\\local\\programs\\python\\python310\\lib\\site-packages (from datasets) (1.26.4)\n",
      "Requirement already satisfied: pyarrow>=15.0.0 in c:\\users\\cjoha\\appdata\\local\\programs\\python\\python310\\lib\\site-packages (from datasets) (19.0.1)\n",
      "Requirement already satisfied: dill<0.3.9,>=0.3.0 in c:\\users\\cjoha\\appdata\\local\\programs\\python\\python310\\lib\\site-packages (from datasets) (0.3.8)\n",
      "Requirement already satisfied: pandas in c:\\users\\cjoha\\appdata\\local\\programs\\python\\python310\\lib\\site-packages (from datasets) (2.2.0)\n",
      "Requirement already satisfied: requests>=2.32.2 in c:\\users\\cjoha\\appdata\\local\\programs\\python\\python310\\lib\\site-packages (from datasets) (2.32.3)\n",
      "Requirement already satisfied: tqdm>=4.66.3 in c:\\users\\cjoha\\appdata\\local\\programs\\python\\python310\\lib\\site-packages (from datasets) (4.67.1)\n",
      "Requirement already satisfied: xxhash in c:\\users\\cjoha\\appdata\\local\\programs\\python\\python310\\lib\\site-packages (from datasets) (3.5.0)\n",
      "Requirement already satisfied: multiprocess<0.70.17 in c:\\users\\cjoha\\appdata\\local\\programs\\python\\python310\\lib\\site-packages (from datasets) (0.70.16)\n",
      "Requirement already satisfied: fsspec[http]<=2024.12.0,>=2023.1.0 in c:\\users\\cjoha\\appdata\\local\\programs\\python\\python310\\lib\\site-packages (from datasets) (2024.12.0)\n",
      "Requirement already satisfied: aiohttp in c:\\users\\cjoha\\appdata\\local\\programs\\python\\python310\\lib\\site-packages (from datasets) (3.11.16)\n",
      "Requirement already satisfied: huggingface-hub>=0.24.0 in c:\\users\\cjoha\\appdata\\local\\programs\\python\\python310\\lib\\site-packages (from datasets) (0.31.1)\n",
      "Requirement already satisfied: packaging in c:\\users\\cjoha\\appdata\\local\\programs\\python\\python310\\lib\\site-packages (from datasets) (21.3)\n",
      "Requirement already satisfied: pyyaml>=5.1 in c:\\users\\cjoha\\appdata\\local\\programs\\python\\python310\\lib\\site-packages (from datasets) (6.0)\n",
      "Requirement already satisfied: aiohappyeyeballs>=2.3.0 in c:\\users\\cjoha\\appdata\\local\\programs\\python\\python310\\lib\\site-packages (from aiohttp->datasets) (2.6.1)\n",
      "Requirement already satisfied: aiosignal>=1.1.2 in c:\\users\\cjoha\\appdata\\local\\programs\\python\\python310\\lib\\site-packages (from aiohttp->datasets) (1.3.2)\n",
      "Requirement already satisfied: async-timeout<6.0,>=4.0 in c:\\users\\cjoha\\appdata\\local\\programs\\python\\python310\\lib\\site-packages (from aiohttp->datasets) (5.0.1)\n",
      "Requirement already satisfied: attrs>=17.3.0 in c:\\users\\cjoha\\appdata\\local\\programs\\python\\python310\\lib\\site-packages (from aiohttp->datasets) (21.4.0)\n",
      "Requirement already satisfied: frozenlist>=1.1.1 in c:\\users\\cjoha\\appdata\\local\\programs\\python\\python310\\lib\\site-packages (from aiohttp->datasets) (1.5.0)\n",
      "Requirement already satisfied: multidict<7.0,>=4.5 in c:\\users\\cjoha\\appdata\\local\\programs\\python\\python310\\lib\\site-packages (from aiohttp->datasets) (6.4.2)\n",
      "Requirement already satisfied: propcache>=0.2.0 in c:\\users\\cjoha\\appdata\\local\\programs\\python\\python310\\lib\\site-packages (from aiohttp->datasets) (0.3.1)\n",
      "Requirement already satisfied: yarl<2.0,>=1.17.0 in c:\\users\\cjoha\\appdata\\local\\programs\\python\\python310\\lib\\site-packages (from aiohttp->datasets) (1.19.0)\n",
      "Requirement already satisfied: typing-extensions>=3.7.4.3 in c:\\users\\cjoha\\appdata\\local\\programs\\python\\python310\\lib\\site-packages (from huggingface-hub>=0.24.0->datasets) (4.13.0)\n",
      "Requirement already satisfied: pyparsing!=3.0.5,>=2.0.2 in c:\\users\\cjoha\\appdata\\local\\programs\\python\\python310\\lib\\site-packages (from packaging->datasets) (3.0.9)\n",
      "Requirement already satisfied: charset-normalizer<4,>=2 in c:\\users\\cjoha\\appdata\\local\\programs\\python\\python310\\lib\\site-packages (from requests>=2.32.2->datasets) (2.0.12)\n",
      "Requirement already satisfied: idna<4,>=2.5 in c:\\users\\cjoha\\appdata\\local\\programs\\python\\python310\\lib\\site-packages (from requests>=2.32.2->datasets) (3.3)\n",
      "Requirement already satisfied: urllib3<3,>=1.21.1 in c:\\users\\cjoha\\appdata\\local\\programs\\python\\python310\\lib\\site-packages (from requests>=2.32.2->datasets) (1.26.9)\n",
      "Requirement already satisfied: certifi>=2017.4.17 in c:\\users\\cjoha\\appdata\\local\\programs\\python\\python310\\lib\\site-packages (from requests>=2.32.2->datasets) (2022.6.15)\n",
      "Requirement already satisfied: colorama in c:\\users\\cjoha\\appdata\\local\\programs\\python\\python310\\lib\\site-packages (from tqdm>=4.66.3->datasets) (0.4.5)\n",
      "Requirement already satisfied: python-dateutil>=2.8.2 in c:\\users\\cjoha\\appdata\\local\\programs\\python\\python310\\lib\\site-packages (from pandas->datasets) (2.8.2)\n",
      "Requirement already satisfied: pytz>=2020.1 in c:\\users\\cjoha\\appdata\\local\\programs\\python\\python310\\lib\\site-packages (from pandas->datasets) (2022.1)\n",
      "Requirement already satisfied: tzdata>=2022.7 in c:\\users\\cjoha\\appdata\\local\\programs\\python\\python310\\lib\\site-packages (from pandas->datasets) (2025.1)\n",
      "Requirement already satisfied: six>=1.5 in c:\\users\\cjoha\\appdata\\local\\programs\\python\\python310\\lib\\site-packages (from python-dateutil>=2.8.2->pandas->datasets) (1.16.0)\n"
     ]
    },
    {
     "name": "stderr",
     "output_type": "stream",
     "text": [
      "\n",
      "[notice] A new release of pip is available: 23.1.1 -> 25.1.1\n",
      "[notice] To update, run: python.exe -m pip install --upgrade pip\n"
     ]
    }
   ],
   "source": [
    "!pip install datasets sentencepiece"
   ]
  },
  {
   "cell_type": "code",
   "execution_count": 3,
   "id": "6069d02b",
   "metadata": {},
   "outputs": [],
   "source": [
    "from datasets import load_dataset\n",
    "data_files = {\"train\": \"data/train-00000-of-00001.parquet\", \"test\": \"data/test-00000-of-00001.parquet\", \"validation\": \"data/validation-00000-of-00001.parquet\"}\n",
    "race = load_dataset(\"parquet\", data_files=data_files)"
   ]
  },
  {
   "cell_type": "code",
   "execution_count": 4,
   "id": "739198af",
   "metadata": {},
   "outputs": [
    {
     "data": {
      "text/plain": [
       "DatasetDict({\n",
       "    train: Dataset({\n",
       "        features: ['example_id', 'article', 'answer', 'question', 'options'],\n",
       "        num_rows: 87866\n",
       "    })\n",
       "    test: Dataset({\n",
       "        features: ['example_id', 'article', 'answer', 'question', 'options'],\n",
       "        num_rows: 4934\n",
       "    })\n",
       "    validation: Dataset({\n",
       "        features: ['example_id', 'article', 'answer', 'question', 'options'],\n",
       "        num_rows: 4887\n",
       "    })\n",
       "})"
      ]
     },
     "execution_count": 4,
     "metadata": {},
     "output_type": "execute_result"
    }
   ],
   "source": [
    "race"
   ]
  },
  {
   "cell_type": "code",
   "execution_count": 5,
   "id": "267c1ed2",
   "metadata": {},
   "outputs": [],
   "source": [
    "# Filter each split to only include examples where the len of article is less than 800\n",
    "race = race.filter(lambda x: len(x['article']) < 800)"
   ]
  },
  {
   "cell_type": "code",
   "execution_count": 6,
   "id": "2d7ae6ff",
   "metadata": {},
   "outputs": [
    {
     "data": {
      "text/plain": [
       "DatasetDict({\n",
       "    train: Dataset({\n",
       "        features: ['example_id', 'article', 'answer', 'question', 'options'],\n",
       "        num_rows: 8930\n",
       "    })\n",
       "    test: Dataset({\n",
       "        features: ['example_id', 'article', 'answer', 'question', 'options'],\n",
       "        num_rows: 480\n",
       "    })\n",
       "    validation: Dataset({\n",
       "        features: ['example_id', 'article', 'answer', 'question', 'options'],\n",
       "        num_rows: 514\n",
       "    })\n",
       "})"
      ]
     },
     "execution_count": 6,
     "metadata": {},
     "output_type": "execute_result"
    }
   ],
   "source": [
    "race"
   ]
  },
  {
   "cell_type": "code",
   "execution_count": 7,
   "id": "c21fc9a2",
   "metadata": {},
   "outputs": [],
   "source": [
    "from huggingface_hub import login\n",
    "from transformers import AutoTokenizer, AutoModelForCausalLM\n",
    "model_name = \"meta-llama/Llama-3.2-1B\"\n",
    "\n",
    "token = input(\"Enter your Hugging Face token: \")\n",
    "login(token=token) # Token de Hugging Face\n",
    "base_tokenizer = AutoTokenizer.from_pretrained(model_name)\n",
    "base_model = AutoModelForCausalLM.from_pretrained(model_name)\n",
    "\n",
    "# Configurar tokenizador\n",
    "base_tokenizer.pad_token = base_tokenizer.eos_token\n",
    "base_tokenizer.padding_side = \"right\""
   ]
  },
  {
   "cell_type": "code",
   "execution_count": null,
   "id": "d1db4b39",
   "metadata": {},
   "outputs": [
    {
     "data": {
      "application/vnd.jupyter.widget-view+json": {
       "model_id": "9c44c639c9d24958bd21558b969a44c0",
       "version_major": 2,
       "version_minor": 0
      },
      "text/plain": [
       "Map:   0%|          | 0/8930 [00:00<?, ? examples/s]"
      ]
     },
     "metadata": {},
     "output_type": "display_data"
    },
    {
     "data": {
      "application/vnd.jupyter.widget-view+json": {
       "model_id": "620081226e784e31ae2483acb9e6d4da",
       "version_major": 2,
       "version_minor": 0
      },
      "text/plain": [
       "Map:   0%|          | 0/480 [00:00<?, ? examples/s]"
      ]
     },
     "metadata": {},
     "output_type": "display_data"
    },
    {
     "data": {
      "application/vnd.jupyter.widget-view+json": {
       "model_id": "c9c68f6c29524656bdb890b102704049",
       "version_major": 2,
       "version_minor": 0
      },
      "text/plain": [
       "Map:   0%|          | 0/514 [00:00<?, ? examples/s]"
      ]
     },
     "metadata": {},
     "output_type": "display_data"
    }
   ],
   "source": [
    "from datasets import DatasetDict\n",
    "def format_example(example):\n",
    "    article = example[\"article\"]\n",
    "    question = example[\"question\"]\n",
    "    options = example[\"options\"]\n",
    "    answer_idx = ord(example[\"answer\"]) - ord(\"A\")\n",
    "    \n",
    "    # Format options\n",
    "    formatted_options = \"\"\n",
    "    for i, opt in enumerate(options):\n",
    "        option_letter = chr(65 + i)  # A, B, C, D\n",
    "        formatted_options += f\"{option_letter}. {opt}\\n\"\n",
    "    \n",
    "    # Create instruction format for fine-tuning\n",
    "    instruction = f\"\"\"Read the following passage and answer the question by choosing the correct option.\n",
    "\n",
    "Passage:\n",
    "{article}\n",
    "\n",
    "Question: {question}\n",
    "\n",
    "Options:\n",
    "{formatted_options}\n",
    "\n",
    "The correct answer is:\"\"\"\n",
    "    \n",
    "    # Create completion (what the model should generate)\n",
    "    completion = f\" {chr(65 + answer_idx)}\"\n",
    "    \n",
    "    example[\"instruction\"] = instruction\n",
    "    example[\"completion\"] = completion\n",
    "    return example\n",
    "\n",
    "def prepare_datasets(datasetdict: DatasetDict, tokenizer: AutoTokenizer) -> DatasetDict:\n",
    "    \"\"\"\n",
    "    Prepares the datasets for training by tokenizing the inputs and labels.\n",
    "    \"\"\"\n",
    "    def tokenize_function(example):\n",
    "        # Tokenize the inputs and labels\n",
    "        example = format_example(example)\n",
    "        # input_text = example[\"instruction\"] + example[\"completion\"]\n",
    "        # inputs = tokenizer(input_text, padding=\"max_length\")\n",
    "        # example[\"input_ids\"] = inputs[\"input_ids\"]\n",
    "        # example[\"attention_mask\"] = inputs[\"attention_mask\"]\n",
    "        # example[\"labels\"] = inputs[\"input_ids\"].copy()\n",
    "        # example[\"labels\"][example[\"attention_mask\"] == 0] = -100\n",
    "        return example\n",
    "\n",
    "    # Apply the tokenization function to each split of the dataset\n",
    "    tokenized_datasets = datasetdict.map(tokenize_function, batched=False)\n",
    "    return tokenized_datasets\n",
    "\n",
    "race = prepare_datasets(race,tokenizer=base_tokenizer)"
   ]
  },
  {
   "cell_type": "code",
   "execution_count": 10,
   "id": "473ee9c2",
   "metadata": {},
   "outputs": [
    {
     "data": {
      "text/plain": [
       "{'example_id': 'high2778.txt',\n",
       " 'article': 'The air hostess   was in a small kitchen at the back of the plane, preparing the plates for lunch, when a little old lady came and spoke to her, \"Could you please tell me,\" she asked, \"where is the ladies\\' lavatory   in the plane?\"\\n\"Yes, madam,\" said the air hostess and smiled. \"It is right at the other end of the plane---at the front.\"\\nThe little lady went too far. She walked all the way to the front of the plane, opened the door in front of her, and saw the captain of the plane and the other officers. They were all busy with their work and did not see her. She went out again, shut the door and returned to the air hostess.\\n\"Oh, didn\\'t you find it, madam?\" the girl asked her. \"Yes, I did,\" said the little lady. \"But there are four men in the ladies\\' lavatory watching television.\"',\n",
       " 'answer': 'C',\n",
       " 'question': 'The story happened  _  .',\n",
       " 'options': ['in the evening',\n",
       "  'in the afternoon',\n",
       "  'in the morning',\n",
       "  'at midnight'],\n",
       " 'instruction': 'Read the following passage and answer the question by choosing the correct option.\\n\\nPassage:\\nThe air hostess   was in a small kitchen at the back of the plane, preparing the plates for lunch, when a little old lady came and spoke to her, \"Could you please tell me,\" she asked, \"where is the ladies\\' lavatory   in the plane?\"\\n\"Yes, madam,\" said the air hostess and smiled. \"It is right at the other end of the plane---at the front.\"\\nThe little lady went too far. She walked all the way to the front of the plane, opened the door in front of her, and saw the captain of the plane and the other officers. They were all busy with their work and did not see her. She went out again, shut the door and returned to the air hostess.\\n\"Oh, didn\\'t you find it, madam?\" the girl asked her. \"Yes, I did,\" said the little lady. \"But there are four men in the ladies\\' lavatory watching television.\"\\n\\nQuestion: The story happened  _  .\\n\\nOptions:\\nA. in the evening\\nB. in the afternoon\\nC. in the morning\\nD. at midnight\\n\\n\\nThe correct answer is:',\n",
       " 'completion': ' C',\n",
       " 'correct_answer': 'in the morning'}"
      ]
     },
     "execution_count": 10,
     "metadata": {},
     "output_type": "execute_result"
    }
   ],
   "source": [
    "race['train'][0]"
   ]
  }
 ],
 "metadata": {
  "kernelspec": {
   "display_name": "Python 3",
   "language": "python",
   "name": "python3"
  },
  "language_info": {
   "codemirror_mode": {
    "name": "ipython",
    "version": 3
   },
   "file_extension": ".py",
   "mimetype": "text/x-python",
   "name": "python",
   "nbconvert_exporter": "python",
   "pygments_lexer": "ipython3",
   "version": "3.10.5"
  }
 },
 "nbformat": 4,
 "nbformat_minor": 5
}
